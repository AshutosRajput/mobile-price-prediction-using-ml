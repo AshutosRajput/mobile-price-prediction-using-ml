{
  "nbformat": 4,
  "nbformat_minor": 0,
  "metadata": {
    "colab": {
      "private_outputs": true,
      "provenance": [],
      "include_colab_link": true
    },
    "kernelspec": {
      "name": "python3",
      "display_name": "Python 3"
    },
    "language_info": {
      "name": "python"
    }
  },
  "cells": [
    {
      "cell_type": "markdown",
      "metadata": {
        "id": "view-in-github",
        "colab_type": "text"
      },
      "source": [
        "<a href=\"https://colab.research.google.com/github/AshutosRajput/mobile-price-prediction-using-ml/blob/main/Mobile__price_prediction.ipynb\" target=\"_parent\"><img src=\"https://colab.research.google.com/assets/colab-badge.svg\" alt=\"Open In Colab\"/></a>"
      ]
    },
    {
      "cell_type": "markdown",
      "source": [
        "# **Project Name**    - Mobile Price Prediction\n",
        "\n"
      ],
      "metadata": {
        "id": "vncDsAP0Gaoa"
      }
    },
    {
      "cell_type": "markdown",
      "source": [
        "##### **Project Type**    - Classification\n",
        "##### **Contribution**    - Individual\n",
        "##### **Name -**          -Ashutosh Rajput\n"
      ],
      "metadata": {
        "id": "beRrZCGUAJYm"
      }
    },
    {
      "cell_type": "markdown",
      "source": [],
      "metadata": {
        "id": "iZA8XnQnVOS6"
      }
    },
    {
      "cell_type": "markdown",
      "source": [
        "# **Project Summary -**"
      ],
      "metadata": {
        "id": "FJNUwmbgGyua"
      }
    },
    {
      "cell_type": "markdown",
      "source": [
        "\n",
        "\n",
        "To predict “If the mobile with given features will be\n",
        "Economical or Expensive” is the main motive \n",
        "of this research work. Different feature selection\n",
        "algorithms are used to identify and remove less\n",
        "important and redundant features and have\n",
        "minimum computational complexity. \n",
        "Different classifiers are used to achieve \n",
        "as high accuracy as possible. \n",
        "Results are compared in terms \n",
        "of highest accuracy achieved and minimum \n",
        "features selected. Conclusion is made on\n",
        "the basis of the best feature selection \n",
        "algorithm and best classifier for the given dataset.\n",
        "This work can be used in any type of marketing \n",
        "and business to find optimal products\n",
        "(with minimum cost and maximum features). \n",
        "Future work is suggested to extend this research\n",
        " and find more sophisticated solutions to the \n",
        "given problem and more accurate tools for price estimation.\n",
        "\n",
        "Keywords: Machine Learning, KNN Algorithm, Naive Bayes, Support Vector Machine\n",
        "\n"
      ],
      "metadata": {
        "id": "F6v_1wHtG2nS"
      }
    },
    {
      "cell_type": "markdown",
      "source": [
        "# **GitHub Link -**"
      ],
      "metadata": {
        "id": "w6K7xa23Elo4"
      }
    },
    {
      "cell_type": "markdown",
      "source": [
        "https://github.com/AshutosRajput/mobile-price-prediction-using-ml"
      ],
      "metadata": {
        "id": "h1o69JH3Eqqn"
      }
    },
    {
      "cell_type": "markdown",
      "source": [
        "# **Problem Statement**\n"
      ],
      "metadata": {
        "id": "D2A9-ca2XZ96"
      }
    },
    {
      "cell_type": "markdown",
      "source": [
        "The Customer’s very first question \n",
        "is about the price of the stuff. \n",
        "The customer always wonder \n",
        "about the price of the product, \n",
        "and if suppose he/she buy the product \n",
        "so he thinks about whether the \n",
        "product is good or not. To overcome \n",
        "with all those problems i am \n",
        "predicting the model using machine \n",
        "learning which use to tell everything \n",
        "related to the product, so he/she \n",
        "can easily get that product \n",
        "with his range.  \n"
      ],
      "metadata": {
        "id": "bPhuj77_Xa1Q"
      }
    },
    {
      "cell_type": "markdown",
      "source": [
        " # **Data Description**"
      ],
      "metadata": {
        "id": "ICavvi43ubW6"
      }
    },
    {
      "cell_type": "markdown",
      "source": [
        "Battery_power - Total energy a battery can store in one time measured in mAh\n",
        "\n",
        "Blue - Has bluetooth or not\n",
        "\n",
        "Clock_speed - speed at which microprocessor executes instructions\n",
        "\n",
        "Dual_sim - Has dual sim support or not\n",
        "\n",
        "Fc - Front Camera mega pixels\n",
        "\n",
        "Four_g - Has 4G or not\n",
        "\n",
        "Int_memory - Internal Memory in Gigabytes\n",
        "\n",
        "M_dep - Mobile Depth in cm\n",
        "\n",
        "Mobile_wt - Weight of mobile phone\n",
        "\n",
        "N_cores - Number of cores of processor\n",
        "\n",
        "Pc - Primary Camera mega pixels\n",
        "\n",
        "Px_height - Pixel Resolution Height\n",
        "\n",
        "Px_width - Pixel Resolution Width\n",
        "\n",
        "Ram - Random Access Memory in Mega Bytes\n",
        "\n",
        "Sc_h - Screen Height of mobile in cm\n",
        "\n",
        "Sc_w - Screen Width of mobile in cm\n",
        "\n",
        "Talk_time - longest time that a single battery charge will last when you are\n",
        "\n",
        "Three_g - Has 3G or not\n",
        "\n",
        "Touch_screen - Has touch screen or not\n",
        "\n",
        "Wifi - Has wifi or not\n",
        "\n",
        "Price_range - This is the target variable with value of 0(low cost), 1(medium \n",
        "cost),\n",
        "2(high cost) and 3(very high cost)."
      ],
      "metadata": {
        "id": "eP6DQnyzVTE9"
      }
    },
    {
      "cell_type": "markdown",
      "source": [
        "Importing the needed libraries to make a prediction."
      ],
      "metadata": {
        "id": "UstCLNx0cCYQ"
      }
    },
    {
      "cell_type": "code",
      "source": [
        "#import libraries\n",
        "import numpy as np \n",
        "import pandas as pd\n",
        "import matplotlib.pyplot as plt\n",
        "import seaborn as sns "
      ],
      "metadata": {
        "id": "DSa4txCscAgU"
      },
      "execution_count": null,
      "outputs": []
    },
    {
      "cell_type": "code",
      "source": [
        "#Connect to drive\n",
        "from google.colab import drive\n",
        "drive.mount('/content/drive')\n",
        "    "
      ],
      "metadata": {
        "id": "kd26i6eSproc"
      },
      "execution_count": null,
      "outputs": []
    },
    {
      "cell_type": "markdown",
      "source": [
        "Loading the given datasets."
      ],
      "metadata": {
        "id": "_9wYKZl3FUYw"
      }
    },
    {
      "cell_type": "code",
      "source": [
        "#loading dataset\n",
        "df = pd.read_csv('/content/drive/MyDrive/data_mobile_price_range (1).csv')"
      ],
      "metadata": {
        "id": "cxvrkEwncP29"
      },
      "execution_count": null,
      "outputs": []
    },
    {
      "cell_type": "markdown",
      "source": [],
      "metadata": {
        "id": "W4owQtAlcieP"
      }
    },
    {
      "cell_type": "code",
      "source": [
        "#checking top 5 rows\n",
        "df.head()"
      ],
      "metadata": {
        "id": "ArJd8liwcjfy"
      },
      "execution_count": null,
      "outputs": []
    },
    {
      "cell_type": "code",
      "source": [
        "#checking information \n",
        "df.info()"
      ],
      "metadata": {
        "id": "tuhuwR0qcqt3"
      },
      "execution_count": null,
      "outputs": []
    },
    {
      "cell_type": "code",
      "source": [
        "#shape of dataset\n",
        "df.shape"
      ],
      "metadata": {
        "id": "DAkpvNkocvsc"
      },
      "execution_count": null,
      "outputs": []
    },
    {
      "cell_type": "code",
      "source": [
        "#check null values\n",
        "df.isnull().sum()"
      ],
      "metadata": {
        "id": "h9YPvAVSMRXK"
      },
      "execution_count": null,
      "outputs": []
    },
    {
      "cell_type": "markdown",
      "source": [
        "There are no null **values**"
      ],
      "metadata": {
        "id": "dWxKI7jxMamo"
      }
    },
    {
      "cell_type": "code",
      "source": [
        "#duplicate value\n",
        "df.duplicated().sum()"
      ],
      "metadata": {
        "id": "arFDmcYDOk3l"
      },
      "execution_count": null,
      "outputs": []
    },
    {
      "cell_type": "markdown",
      "source": [
        "There are no duplicate values"
      ],
      "metadata": {
        "id": "N4m24nCoOxyw"
      }
    },
    {
      "cell_type": "markdown",
      "source": [
        " # **EDA**"
      ],
      "metadata": {
        "id": "Mqe9CxqtL6WA"
      }
    },
    {
      "cell_type": "code",
      "source": [
        "#checking outlier \n",
        "sns.boxplot(df['price_range'])"
      ],
      "metadata": {
        "id": "Ohm8HCRGMlfV"
      },
      "execution_count": null,
      "outputs": []
    },
    {
      "cell_type": "markdown",
      "source": [
        "There are no outlier"
      ],
      "metadata": {
        "id": "GeKmA9WxNTwY"
      }
    },
    {
      "cell_type": "code",
      "source": [
        "#correlation using heatmap\n",
        "plt.figure(figsize=(12,8))\n",
        "sns.heatmap(df.corr())\n",
        "plt.show()"
      ],
      "metadata": {
        "id": "BHAfozGRc2nM"
      },
      "execution_count": null,
      "outputs": []
    },
    {
      "cell_type": "markdown",
      "source": [
        "Checking the correlation between the feature and the labels and we saw that we are good correlation with battery_power, px_width,px_height and higher correlation with ram."
      ],
      "metadata": {
        "id": "XJ9v4HkYdCw0"
      }
    },
    {
      "cell_type": "markdown",
      "source": [
        "Now comparing all the correlated features with the given label."
      ],
      "metadata": {
        "id": "7oZOXxvJdHMS"
      }
    },
    {
      "cell_type": "code",
      "source": [
        "#creating a bar plot for relationship b/w price_range and battery_power\n",
        "sns.barplot(data=df,x='price_range', y = 'battery_power')\n",
        "plt.show"
      ],
      "metadata": {
        "id": "YGEyT2K3c9QS"
      },
      "execution_count": null,
      "outputs": []
    },
    {
      "cell_type": "markdown",
      "source": [
        "Price range according to the battery_power, if battery_power is 1400 or more than that then the price will be higher."
      ],
      "metadata": {
        "id": "QSgaLk77dTpq"
      }
    },
    {
      "cell_type": "code",
      "source": [
        "#check relationship b/w price_range and px_height\n",
        "plt.figure(figsize=(12,4))\n",
        "plt.subplot(1,2,1)\n",
        "sns.barplot(x='price_range',y='px_height',data=df, palette = 'Greens')\n",
        "plt.subplot(1,2,2)\n",
        "sns.barplot(x='price_range',y='px_width',data=df, palette = 'Blues')\n",
        "plt.show()\n",
        "\n",
        "\n"
      ],
      "metadata": {
        "id": "gEUFFnmudOBI"
      },
      "execution_count": null,
      "outputs": []
    },
    {
      "cell_type": "markdown",
      "source": [
        "And also same for pixels height and width, if suppose pixel height is 750 or more than price range is higher ."
      ],
      "metadata": {
        "id": "mr7szPbGdgVv"
      }
    },
    {
      "cell_type": "code",
      "source": [
        "#check relationship b/w price_range and ram\n",
        "plt.figure(figsize=(8,6))\n",
        "sns.barplot(x='price_range', y='ram',data=df)\n",
        "plt.show()"
      ],
      "metadata": {
        "id": "3DbctSqWdbLz"
      },
      "execution_count": null,
      "outputs": []
    },
    {
      "cell_type": "markdown",
      "source": [
        "Price range according to the ram, if ram is 3500 or more than that then the price will be higher."
      ],
      "metadata": {
        "id": "sNkUjXqVdnBg"
      }
    },
    {
      "cell_type": "code",
      "source": [
        "#create a countplot for visulation\n",
        "plt.figure(figsize=(10,6))\n",
        "sns.countplot(x=df['four_g'],hue=df['price_range'],palette='ocean')\n",
        "plt.show()"
      ],
      "metadata": {
        "id": "S_IJfrXadr77"
      },
      "execution_count": null,
      "outputs": []
    },
    {
      "cell_type": "code",
      "source": [
        "# check the relationship b/w three_g and price_range\n",
        "plt.figure(figsize=(10,6))\n",
        "sns.countplot(x=df['three_g'],hue = df['price_range'],palette = 'ocean')\n",
        "plt.show()"
      ],
      "metadata": {
        "id": "qwd2ZDy9ju0a"
      },
      "execution_count": null,
      "outputs": []
    },
    {
      "cell_type": "code",
      "source": [
        "#independent and traget variable\n",
        "x=df.drop(['price_range'],axis=1)\n",
        "y=df['price_range']"
      ],
      "metadata": {
        "id": "H6QQNTXqmps2"
      },
      "execution_count": null,
      "outputs": []
    },
    {
      "cell_type": "markdown",
      "source": [
        "**Create Model**"
      ],
      "metadata": {
        "id": "Eswhq6UJo4Zv"
      }
    },
    {
      "cell_type": "code",
      "source": [
        "# train dataset\n",
        "from sklearn.model_selection import train_test_split\n",
        "x_train, x_test, y_train, y_test = train_test_split(x,y,test_size=0.2,random_state=0)"
      ],
      "metadata": {
        "id": "3zXrR_PgmxBq"
      },
      "execution_count": null,
      "outputs": []
    },
    {
      "cell_type": "markdown",
      "source": [
        "Now we going for training and testing of the model."
      ],
      "metadata": {
        "id": "MXSqnVzbnFBJ"
      }
    },
    {
      "cell_type": "code",
      "source": [],
      "metadata": {
        "id": "a2FHVqOjNqIA"
      },
      "execution_count": null,
      "outputs": []
    },
    {
      "cell_type": "markdown",
      "source": [
        "#KNN ALGORITHM"
      ],
      "metadata": {
        "id": "QZJgtJyLNxpU"
      }
    },
    {
      "cell_type": "markdown",
      "source": [],
      "metadata": {
        "id": "sVNjh5sCNxa3"
      }
    },
    {
      "cell_type": "code",
      "source": [
        "# import KNeighborsClassifier \n",
        "from sklearn.neighbors import KNeighborsClassifier\n",
        "KNN = KNeighborsClassifier(n_neighbors=15)\n",
        "KNN.fit(x_train, y_train)"
      ],
      "metadata": {
        "id": "JdI2tOaknBR0"
      },
      "execution_count": null,
      "outputs": []
    },
    {
      "cell_type": "markdown",
      "source": [
        "Here we used KNeighborsClassifier which takes it's 15 nearest datapoint and predict the accuracy"
      ],
      "metadata": {
        "id": "hKmr1joKnQ26"
      }
    },
    {
      "cell_type": "code",
      "source": [
        "#score x_train,y_train\n",
        "KNN.score(x_train, y_train)"
      ],
      "metadata": {
        "id": "k7j6c9j9nSAW"
      },
      "execution_count": null,
      "outputs": []
    },
    {
      "cell_type": "code",
      "source": [
        "#predict knn\n",
        "pred = KNN.predict(x_test)"
      ],
      "metadata": {
        "id": "Rb-5BH9pnJ2f"
      },
      "execution_count": null,
      "outputs": []
    },
    {
      "cell_type": "code",
      "source": [
        "# taking metrics for accuracy\n",
        "from sklearn.metrics import accuracy_score\n",
        "accuracy_score(y_test,pred)"
      ],
      "metadata": {
        "id": "rbobJp-FndUz"
      },
      "execution_count": null,
      "outputs": []
    },
    {
      "cell_type": "markdown",
      "source": [
        "By using KNN we are getting the accuracy which is 0.942 for trained dataset and .955 for test data."
      ],
      "metadata": {
        "id": "29S633D4nnpr"
      }
    },
    {
      "cell_type": "markdown",
      "source": [
        "#Naive Bayes"
      ],
      "metadata": {
        "id": "uul2nbz4ODgP"
      }
    },
    {
      "cell_type": "code",
      "source": [
        "#naive_bayes algoritham\n",
        "from sklearn.naive_bayes import GaussianNB\n",
        "g=GaussianNB()\n",
        "g.fit(x_train, y_train)"
      ],
      "metadata": {
        "id": "pDShwOxwniPp"
      },
      "execution_count": null,
      "outputs": []
    },
    {
      "cell_type": "code",
      "source": [
        "#check score naive_byes\n",
        "g.score(x_train, y_train)"
      ],
      "metadata": {
        "id": "f9Q_0G4qnto5"
      },
      "execution_count": null,
      "outputs": []
    },
    {
      "cell_type": "code",
      "source": [
        "#predict x_test\n",
        "PRED = g.predict(x_test)"
      ],
      "metadata": {
        "id": "8jYr1wtenzQA"
      },
      "execution_count": null,
      "outputs": []
    },
    {
      "cell_type": "code",
      "source": [
        "#accuracy_score\n",
        "accuracy_score(y_test,PRED)"
      ],
      "metadata": {
        "id": "LBOluvhln8tl"
      },
      "execution_count": null,
      "outputs": []
    },
    {
      "cell_type": "markdown",
      "source": [
        "Naive bayes is not giving good accuracy so further we will check with some more classification techniques."
      ],
      "metadata": {
        "id": "qz9fmLuQoCNx"
      }
    },
    {
      "cell_type": "markdown",
      "source": [
        "#Support Vector Machine"
      ],
      "metadata": {
        "id": "B7hpGjTtONNQ"
      }
    },
    {
      "cell_type": "code",
      "source": [
        "#svm algoritham\n",
        "from sklearn import svm\n",
        "S=svm.SVC(decision_function_shape='ovo')\n",
        "final_model=S.fit(x_train,y_train)"
      ],
      "metadata": {
        "id": "HHZB7ueQn-dd"
      },
      "execution_count": null,
      "outputs": []
    },
    {
      "cell_type": "code",
      "source": [
        "#check score\n",
        "S.score(x_train, y_train)"
      ],
      "metadata": {
        "id": "400G4vwzoKvZ"
      },
      "execution_count": null,
      "outputs": []
    },
    {
      "cell_type": "code",
      "source": [
        "#check prediction\n",
        "Predict = S.predict(x_test)"
      ],
      "metadata": {
        "id": "dttbqRDwoOxD"
      },
      "execution_count": null,
      "outputs": []
    },
    {
      "cell_type": "code",
      "source": [
        "#checking accuracy score\n",
        "accuracy_score(Predict,y_test)"
      ],
      "metadata": {
        "id": "j9_MnA2yoSyq"
      },
      "execution_count": null,
      "outputs": []
    },
    {
      "cell_type": "markdown",
      "source": [
        "here svm gives 95% accuracy"
      ],
      "metadata": {
        "id": "AEdVV7wBOTPu"
      }
    },
    {
      "cell_type": "markdown",
      "source": [
        "**Conclusion**\n",
        "\n",
        "1.From EDA we can see that here are mobile phones in 4 price ranges. The number of elements is almost similar.\n",
        "\n",
        "2.half the devices have Bluetooth, and half don’t\n",
        "\n",
        "3.there is a gradual increase in battery as the price range increases\n",
        "\n",
        "4.Ram has continuous increase with price range while moving from Low cost to Very high cost\n",
        "\n",
        "5.costly phones are lighter\n",
        "\n",
        "6.RAM, battery power, pixels played more significant role in deciding the price range of mobile phone\n",
        "\n",
        "7.After using many classification techniques we get to know that the K-nearest neighbors and Support Vector Machine gives us the good accuracy."
      ],
      "metadata": {
        "id": "AMQRJyq1oboB"
      }
    }
  ]
}